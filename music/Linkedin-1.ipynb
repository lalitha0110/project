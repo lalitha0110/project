{
 "cells": [
  {
   "cell_type": "code",
   "execution_count": 1,
   "metadata": {},
   "outputs": [],
   "source": [
    "import pandas as pd"
   ]
  },
  {
   "cell_type": "code",
   "execution_count": 2,
   "metadata": {},
   "outputs": [],
   "source": [
    "data=pd.read_csv('unique-link-lang.csv')"
   ]
  },
  {
   "cell_type": "code",
   "execution_count": 3,
   "metadata": {},
   "outputs": [],
   "source": [
    "data_main=data[data.language_name=='English']"
   ]
  },
  {
   "cell_type": "code",
   "execution_count": 4,
   "metadata": {},
   "outputs": [
    {
     "data": {
      "text/plain": [
       "473768"
      ]
     },
     "execution_count": 4,
     "metadata": {},
     "output_type": "execute_result"
    }
   ],
   "source": [
    "len(data_main)"
   ]
  },
  {
   "cell_type": "code",
   "execution_count": 5,
   "metadata": {},
   "outputs": [
    {
     "data": {
      "text/plain": [
       "78961.33333333333"
      ]
     },
     "execution_count": 5,
     "metadata": {},
     "output_type": "execute_result"
    }
   ],
   "source": [
    "473768/6"
   ]
  },
  {
   "cell_type": "code",
   "execution_count": 8,
   "metadata": {},
   "outputs": [
    {
     "data": {
      "text/plain": [
       "157922"
      ]
     },
     "execution_count": 8,
     "metadata": {},
     "output_type": "execute_result"
    }
   ],
   "source": [
    "67681/10\n",
    "78961+78961"
   ]
  },
  {
   "cell_type": "code",
   "execution_count": 7,
   "metadata": {},
   "outputs": [],
   "source": [
    "# data_main[data_main.original.str.contains('years')]"
   ]
  },
  {
   "cell_type": "code",
   "execution_count": 9,
   "metadata": {},
   "outputs": [],
   "source": [
    "set_1=data_main.iloc[78961:157922,:]\n",
    "# set2=data_main.sample(67681)"
   ]
  },
  {
   "cell_type": "code",
   "execution_count": 10,
   "metadata": {},
   "outputs": [],
   "source": [
    "set_1=set_1[['original']]\n",
    "# set2=set2[['original']]"
   ]
  },
  {
   "cell_type": "code",
   "execution_count": 11,
   "metadata": {},
   "outputs": [
    {
     "data": {
      "text/plain": [
       "78961"
      ]
     },
     "execution_count": 11,
     "metadata": {},
     "output_type": "execute_result"
    }
   ],
   "source": [
    "len(set_1)"
   ]
  },
  {
   "cell_type": "code",
   "execution_count": 12,
   "metadata": {},
   "outputs": [],
   "source": [
    "set_1=set_1.dropna()"
   ]
  },
  {
   "cell_type": "code",
   "execution_count": 13,
   "metadata": {},
   "outputs": [],
   "source": [
    "set_1=set_1[~set_1.original.str.contains('speaker|officers|loan|\\.com|course|manager| |holidays|solutions|scientist||2g|3g|4g|5g|6g|7g|8g|9g|10g|[@_!$%^*()<>?\\|}{~]|quick|technician|professional|certificate|certified|certifi|learner|years||«|||\\t||¬|´|»|©')]\n",
    "# set2[set2.original.str.contains('java')]"
   ]
  },
  {
   "cell_type": "code",
   "execution_count": 14,
   "metadata": {},
   "outputs": [],
   "source": [
    "#removing Remove text between () and [] in python\n",
    "\n",
    "import re\n",
    "def strip_character4(dataCol):\n",
    "    r = re.compile('[\\(\\[].*?[\\)\\]]')\n",
    "    return r.sub('', dataCol)\n",
    "\n",
    "set_1.original = set_1.original.apply(strip_character4)"
   ]
  },
  {
   "cell_type": "code",
   "execution_count": 15,
   "metadata": {},
   "outputs": [],
   "source": [
    "set_1['length']=set_1.original.str.len()"
   ]
  },
  {
   "cell_type": "code",
   "execution_count": 16,
   "metadata": {},
   "outputs": [
    {
     "data": {
      "text/plain": [
       "114"
      ]
     },
     "execution_count": 16,
     "metadata": {},
     "output_type": "execute_result"
    }
   ],
   "source": [
    "set_1.length.max()"
   ]
  },
  {
   "cell_type": "code",
   "execution_count": 17,
   "metadata": {},
   "outputs": [
    {
     "data": {
      "text/plain": [
       "6828"
      ]
     },
     "execution_count": 17,
     "metadata": {},
     "output_type": "execute_result"
    }
   ],
   "source": [
    "len(set_1[set_1.length>=40])"
   ]
  },
  {
   "cell_type": "code",
   "execution_count": 18,
   "metadata": {},
   "outputs": [],
   "source": [
    "set_1=set_1[set_1.length<40]"
   ]
  },
  {
   "cell_type": "code",
   "execution_count": 19,
   "metadata": {},
   "outputs": [],
   "source": [
    "# set_1=set_1[~set_1.original.str.contains('place|manager| for |years|knowledge|months|date | of |morning|pass|background|required|expect|workday|prefer|pay|american|junior|counter terrorism|based|pumpkin|great|government|private practice|private wealth|sixth sense|good|unisex|young')]\n",
    "# set_1[set_1.original.str.contains('shelter|africa|antartica|asia|europe|north america|australia|south america|south|north|america')]\n",
    "# set_1[set_1.original.str.contains('afghanistan|london|albania|algeria|angola|argentina|armenia|australia|austria|azerbaijan|bahrain|bangladesh|belarus|belgium|benin|bosnia|botswana|brazil|brunei|bulgaria|burkinafaso|burundi|cambodia|cameroon|centralafricanrepublic|chad|chile|china|colombia|comoros|congo-brazzaville|cookislands|croatia|cyprus|denmark|djibouti|ecuador|egypt|equatorialguinea|estonia|ethiopia|fiji|finland|france|frenchguiana|frenchpolynesia|gabon|gambia|georgia|germany|ghana|gibraltar|greece|guam|guinea|guinea-bissau|guyana|hungary|iceland|india|indonesia|iran|iraq|ireland|israel|italy|japan|jordan|kenya|kuwait|kyrgyzstan|latvia|lebanon|lesotho|liberia|lithuania|luxembourg|macedonia|madagascar|malawi|malaysia|maldives|mali|malta|mauritania|mauritius|moldova|mongolia|morocco|mozambique|myanmar|nauru|nepal|netherlands|newcaledonia|newzealand|niger|nigeria|norfolkisland|northernmarianaislands|norway|pakistan|papuanewguinea|paraguay|peru|philippines|poland|portugal|qatar|romania|russia|rwanda|samoa|saudiarabia|senegal|serbia|seychelles|sierraleone|singapore|slovakia|slovenia|solomonislands|somalia|southafrica|southkorea|spain|srilanka|sudan|suriname|swaziland|sweden|switzerland|syria|sãotomé&príncipe|tajikistan|tanzania|thailand|timor-leste|togo|tonga|tunisia|turkey|turkmenistan|tuvalu|uganda|ukraine|uruguay|uzbekistan|vanuatu|vietnam|wallis&futuna|yemen|zambia|zimbabwe')]\n",
    "# afghanistan|london|albania|algeria|angola|argentina|armenia|australia|austria|azerbaijan|bahrain|bangladesh|belarus|belgium|benin|bosnia|botswana|brazil|brunei|bulgaria|burkinafaso|burundi|cambodia|cameroon|centralafricanrepublic|chad|chile|china|colombia|comoros|congo-brazzaville|cookislands|croatia|cyprus|denmark|djibouti|ecuador|egypt|equatorialguinea|estonia|ethiopia|fiji|finland|france|frenchguiana|frenchpolynesia|gabon|gambia|georgia|germany|ghana|gibraltar|greece|guam|guinea|guinea-bissau|guyana|hungary|iceland|india|indonesia|iran|iraq|ireland|israel|italy|japan|jordan|kenya|kuwait|kyrgyzstan|latvia|lebanon|lesotho|liberia|lithuania|luxembourg|macedonia|madagascar|malawi|malaysia|maldives|mali|malta|mauritania|mauritius|moldova|mongolia|morocco|mozambique|myanmar|nauru|nepal|netherlands|newcaledonia|newzealand|niger|nigeria|norfolkisland|northernmarianaislands|norway|pakistan|papuanewguinea|paraguay|peru|philippines|poland|portugal|qatar|romania|russia|rwanda|samoa|saudiarabia|senegal|serbia|seychelles|sierraleone|singapore|slovakia|slovenia|solomonislands|somalia|southafrica|southkorea|spain|srilanka|sudan|suriname|swaziland|sweden|switzerland|syria|sãotomé&príncipe|tajikistan|tanzania|thailand|timor-leste|togo|tonga|tunisia|turkey|turkmenistan|tuvalu|uganda|ukraine|uruguay|uzbekistan|vanuatu|vietnam|wallis&futuna|yemen|zambia|zimbabwe')]\n",
    "# set_1[set_1.original.str.contains('goa|punjab|maharashtra|jharkhand|andhrapradesh|tripura|uttarpradesh|gujarat|maharashtra|mizoram|rajasthan|uttarpradesh|maharashtra|tamilnadu|kerala|uttarpradesh|uttarpradesh|rajasthan|haryana|haryana|maharashtra|tamilnadu|chhattisgarh|tamilnadu|maharashtra|gujarat|punjab|uttarpradesh|gujarat|andhrapradesh|jammu&kashmir|bihar|westbengal|westbengal|bihar|maharashtra|tamilnadu|uttarpradesh|maharashtra|bihar|karnataka|haryana|westbengal|uttarpradesh|westbengal|orissa|uttarpradesh|westbengal|westbengal|westbengal|uttarpradesh|westbengal|westbengal|rajasthan|rajasthan|westbengal|westbengal|uttarpradesh|westbengal|uttarpradesh|orissa|punjab|westbengal|maharashtra|westbengal|uttarpradesh|punjab|punjab|rajasthan|bihar|karnataka|karnataka|karnataka|bihar|madhyapradesh|orissa|karnataka|westbengal|bihar|nctofdelhi|rajasthan|gujarat|westbengal|gujarat|chhattisgarh|rajasthan|andhrapradesh|madhyapradesh|rajasthan|maharashtra|haryana|madhyapradesh|orissa|gujarat|maharashtra|maharashtra|karnataka|westbengal|bihar|karnataka|rajasthan|chhattisgarh|jharkhand|westbengal|gujarat|orissa|uttarpradesh|uttarpradesh|rajasthan|nctofdelhi|madhyapradesh|bihar|westbengal|westbengal|uttarpradesh|chandigarh|maharashtra|bihar|jharkhand|tamilnadu|madhyapradesh|madhyapradesh|karnataka|andhrapradesh|karnataka|rajasthan|andhrapradesh|rajasthan|tamilnadu|tamilnadu|orissa|westbengal|nctofdelhi|madhyapradesh|bihar|westbengal|madhyapradesh|karnataka|gujarat|uttarakhand|bihar|nctofdelhi|nctofdelhi|jharkhand|nctofdelhi|uttarpradesh|madhyapradesh|jharkhand|andhrapradesh|rajasthan|maharashtra|assam|nagaland|bihar|tamilnadu|westbengal|chhattisgarh|westbengal|andhrapradesh|westbengal|tamilnadu|uttarpradesh|uttarpradesh|uttarpradesh|haryana|uttarpradesh|uttarpradesh|uttarpradesh|punjab|karnataka|gujarat|gujarat|rajasthan|rajasthan|karnataka|bihar|uttarpradesh|jharkhand|gujarat|nctofdelhi|uttarpradesh|gujarat|maharashtra|uttarpradesh|andhrapradesh|maharashtra|uttarpradesh|andhrapradesh|karnataka|madhyapradesh|andhrapradesh|andhrapradesh|haryana|assam|madhyapradesh|westbengal|bihar|westbengal|uttarakhand|westbengal|rajasthan|westbengal|uttarpradesh|uttarpradesh|uttarakhand|karnataka|nctofdelhi|uttarpradesh|jharkhand|rajasthan|andhrapradesh|maharashtra|haryana|madhyapradesh|punjab|karnataka|tamilnadu|karnataka|westbengal|maharashtra|manipur|madhyapradesh|madhyapradesh|haryana|chhattisgarh|rajasthan|punjab|maharashtra|maharashtra|westbengal|bihar|jammu&kashmir|gujarat|jharkhand|westbengal|uttarpradesh|bihar|gujarat|uttarpradesh|rajasthan|haryana|rajasthan|gujarat|andhrapradesh|haryana|andhrapradesh|gujarat|westbengal|westbengal|tamilnadu|westbengal|uttarpradesh|uttarpradesh|tamilnadu|nctofdelhi|andhrapradesh|haryana|uttarpradesh|uttarakhand|bihar|madhyapradesh|punjab|westbengal|westbengal|madhyapradesh|uttarpradesh|uttarpradesh|nctofdelhi|bihar|rajasthan|kerala|karnataka|maharashtra|westbengal|kerala|chhattisgarh|rajasthan|kerala|westbengal|westbengal|tamilnadu|tamilnadu|andhrapradesh|uttarpradesh|uttarpradesh|maharashtra|uttarpradesh|uttarpradesh|punjab|andhrapradesh|andhrapradesh|tamilnadu|westbengal|tamilnadu|andhrapradesh|gujarat|westbengal|uttarpradesh|maharashtra|punjab|nctofdelhi|madhyapradesh|karnataka|karnataka|jharkhand|uttarpradesh|uttarpradesh|westbengal|uttarpradesh|maharashtra|andhrapradesh|uttarpradesh|uttarpradesh|punjab|uttarpradesh|madhyapradesh|gujarat|bihar|uttarpradesh|punjab|bihar|madhyapradesh|nctofdelhi|uttarpradesh|bihar|karnataka|westbengal|gujarat|assam|tamilnadu|rajasthan|madhyapradesh|tamilnadu|maharashtra|westbengal|andhrapradesh|maharashtra|maharashtra|andhrapradesh|nctofdelhi|andhrapradesh|maharashtra|maharashtra|maharashtra|gujarat|madhyapradesh|andhrapradesh|nctofdelhi|tamilnadu|andhrapradesh|uttarpradesh|westbengal|westbengal|andhrapradesh|uttarpradesh|maharashtra|puducherry|kerala|gujarat|rajasthan|tamilnadu|haryana|haryana|westbengal|haryana|maharashtra|maharashtra|gujarat|punjab|punjab|bihar|uttarpradesh|maharashtra|madhyapradesh|gujarat|andaman&nicobarislands|andhrapradesh|puducherry|tamilnadu|maharashtra|orissa|bihar|westbengal|uttarpradesh|karnataka|westbengal|chhattisgarh|chhattisgarh|andhrapradesh|tamilnadu|westbengal|gujarat|chhattisgarh|westbengal|andhrapradesh|uttarpradesh|jharkhand|karnataka|westbengal|madhyapradesh|orissa|orissa|madhyapradesh|haryana|westbengal|karnataka|haryana|uttarakhand|uttarakhand|punjab|madhyapradesh|uttarpradesh|bihar|tamilnadu|orissa|uttarpradesh|maharashtra|westbengal|bihar|maharashtra|madhyapradesh|rajasthan|andhrapradesh|madhyapradesh|madhyapradesh|westbengal|uttarpradesh|uttarpradesh|uttarpradesh|meghalaya|himachalpradesh|karnataka|madhyapradesh|rajasthan|assam|westbengal|madhyapradesh|haryana|uttarpradesh|bihar|maharashtra|haryana|westbengal|andhrapradesh|jammu&kashmir|rajasthan|nctofdelhi|uttarpradesh|gujarat|gujarat|andhrapradesh|andhrapradesh|andhrapradesh|tamilnadu|andhrapradesh|maharashtra|haryana|tamilnadu|kerala|tamilnadu|kerala|tamilnadu|tamilnadu|andhrapradesh|tamilnadu|tamilnadu|tamilnadu|westbengal|rajasthan|karnataka|rajasthan|maharashtra|karnataka|madhyapradesh|maharashtra|westbengal|uttarpradesh|westbengal|gujarat|gujarat|uttarpradesh|maharashtra|tamilnadu|gujarat|madhyapradesh|andhrapradesh|maharashtra|haryana|maharashtra')]\n",
    "# set_1[set_1.original.str.contains('contracts|certification|certified|passout|policies|jobs|job|bop|salaries|duration|date|preferred|candidate|placed')]\n",
    "# set_1[set_1.original.str.contains('malls|hospital+$|hospitals|phases|qualification|qualify|dedicated|fixed|laminate|wood|interview+$|shift|villa marie|stories|pass|project estimation|beach|nri|french |local|reservation|regional|chinese|korean|telugu|hindi|marati|tamil|dutch|kannada|malayalam|english|spanish|fluen')]\n",
    "# set_1[set_1.original.str.contains('customer|bpo|airlines|aeroplane|canada|airport|restaurants|booking|flight|ticketing|travel')]\n",
    "# set_1[set_1.original.str.contains('payment|cash|german|company|radioos|radio jockey|tv|real estate')]\n",
    "#quick bid,it staffing\n",
    "# set_1=set_1[~set_1.original.str.contains('post graduate|undergraduate|graduate|cbse|vidya|school|college|university|campus|placement')]\n",
    "# set_1[set_1.original.str.contains('mandarin|spanish|english|hindi|arabic|portuguese|bengali|russian|japanese|punjabi|german|javanese|wu (inc. shanghainese)|malay/indonesian|telugu|vietnamese|korean|french|marathi|tamil|urdu|turkish|italian|yue (cantonese)|thai|gujarati|jin|southern min|persian|polish|pashto|kannada|xiang (hunnanese)|malayalam|sundanese|hausa|odia (oriya)|burmese|hakka|ukrainian|bhojpuri|tagalog|yoruba|maithili|uzbek|sindhi|amharic|fula|romanian|oromo|igbo|azerbaijani|awadhi|gan chinese|cebuano (visayan)|dutch|kurdish|serbo-croatian|malagasy|saraiki|nepali|sinhalese|chittagonian|zhuang|khmer|turkmen|assamese|madurese|somali|marwari|magahi|haryanvi|hungarian|chhattisgarhi|greek|chewa|deccan|akan|kazakh|northern min|sylheti|zulu|czech|kinyarwanda|dhundhari|haitian creole|eastern min|ilocano|quechua|kirundi|swedish|hmong|shona|uyghur|hiligaynon|mossi|xhosa|belarusian|balochi|konkani')]\n",
    "# set_1=set_1[~set_1.original.str.contains('•|[@_!%^*>?\\|}{~:]')]\n",
    "# set_1=set_1[~set_1.original.str.contains('clerk|auditor|supervisor|chairman|retired|executive|founder|owner|president|director|projectmanager|partner|principal|call |bpo|call center|fresher|btech|mtech|part time+$|full time+$|collect+$|collections+$|plant+$|plant hr|labour|hire|data scientist|scientist')]\n",
    "set_1=set_1[~set_1.original.str.contains(' ceo|secretary|incharge|instruction|faculty|lecturer|assistant')]"
   ]
  },
  {
   "cell_type": "code",
   "execution_count": 20,
   "metadata": {},
   "outputs": [],
   "source": [
    "# srt_1=set_1.drop_duplicates('original')"
   ]
  },
  {
   "cell_type": "code",
   "execution_count": 21,
   "metadata": {},
   "outputs": [
    {
     "data": {
      "text/plain": [
       "63875"
      ]
     },
     "execution_count": 21,
     "metadata": {},
     "output_type": "execute_result"
    }
   ],
   "source": [
    "len(set_1.original.unique())"
   ]
  },
  {
   "cell_type": "code",
   "execution_count": 22,
   "metadata": {},
   "outputs": [],
   "source": [
    "set_1.to_csv('set_2_63975.csv',index=False)"
   ]
  },
  {
   "cell_type": "code",
   "execution_count": 76,
   "metadata": {},
   "outputs": [
    {
     "data": {
      "text/plain": [
       "20000"
      ]
     },
     "execution_count": 76,
     "metadata": {},
     "output_type": "execute_result"
    }
   ],
   "source": [
    "2500*8"
   ]
  },
  {
   "cell_type": "code",
   "execution_count": 77,
   "metadata": {},
   "outputs": [
    {
     "data": {
      "text/plain": [
       "2812.5"
      ]
     },
     "execution_count": 77,
     "metadata": {},
     "output_type": "execute_result"
    }
   ],
   "source": [
    "22500/8"
   ]
  },
  {
   "cell_type": "code",
   "execution_count": 72,
   "metadata": {},
   "outputs": [
    {
     "data": {
      "text/plain": [
       "22510"
      ]
     },
     "execution_count": 72,
     "metadata": {},
     "output_type": "execute_result"
    }
   ],
   "source": [
    "57510-20000-15000"
   ]
  },
  {
   "cell_type": "code",
   "execution_count": null,
   "metadata": {},
   "outputs": [],
   "source": []
  }
 ],
 "metadata": {
  "kernelspec": {
   "display_name": "Python 3",
   "language": "python",
   "name": "python3"
  },
  "language_info": {
   "codemirror_mode": {
    "name": "ipython",
    "version": 3
   },
   "file_extension": ".py",
   "mimetype": "text/x-python",
   "name": "python",
   "nbconvert_exporter": "python",
   "pygments_lexer": "ipython3",
   "version": "3.7.6"
  }
 },
 "nbformat": 4,
 "nbformat_minor": 2
}
